{
 "cells": [
  {
   "cell_type": "markdown",
   "id": "reported-plaza",
   "metadata": {
    "papermill": {
     "duration": 0.015296,
     "end_time": "2021-10-11T15:29:29.186997",
     "exception": false,
     "start_time": "2021-10-11T15:29:29.171701",
     "status": "completed"
    },
    "tags": []
   },
   "source": [
    "# Self-supervised learning with fastai\n",
    "\n",
    "Inspired by [Ayush Thakur's work](https://www.kaggle.com/ayuraj/v2-self-supervised-pretraining-with-swav?scriptVersionId=59516445), I started exploring more about SwAV. The results in the [paper](https://arxiv.org/abs/2006.09882) were quite impressive. Hence, I decided to implement it.\n",
    "\n",
    "Lucky for me, I found a pytorch implementation. Also, it used fastai. This was like a dream come true. Fastai is my comfort zone. You can find more about the [implementation here](https://keremturgutlu.github.io/self_supervised/). I will highly recommend checking out the documentation. Not just SwAV, the repository has fastai implementations of other state-of-the-art algorithms as well.\n",
    "\n",
    "I followed [this tutorial](https://keremturgutlu.github.io/self_supervised/04%20-%20training_swav_iwang.html) for creating this notebook that you are reading now. So, if something looks off or doesn't make sense, then please refer the original tutorial.\n",
    "\n",
    "Lets get started . . ."
   ]
  },
  {
   "cell_type": "markdown",
   "id": "determined-aggregate",
   "metadata": {
    "papermill": {
     "duration": 0.013888,
     "end_time": "2021-10-11T15:29:29.215133",
     "exception": false,
     "start_time": "2021-10-11T15:29:29.201245",
     "status": "completed"
    },
    "tags": []
   },
   "source": [
    "### Installation & imports"
   ]
  },
  {
   "cell_type": "code",
   "execution_count": 1,
   "id": "weird-surveillance",
   "metadata": {
    "_cell_guid": "b1076dfc-b9ad-4769-8c92-a6c4dae69d19",
    "_uuid": "8f2839f25d086af736a60e9eeb907d3b93b6e0e5",
    "execution": {
     "iopub.execute_input": "2021-10-11T15:29:29.247566Z",
     "iopub.status.busy": "2021-10-11T15:29:29.246785Z",
     "iopub.status.idle": "2021-10-11T15:29:37.591804Z",
     "shell.execute_reply": "2021-10-11T15:29:37.591197Z",
     "shell.execute_reply.started": "2021-10-11T12:21:52.090626Z"
    },
    "papermill": {
     "duration": 8.362776,
     "end_time": "2021-10-11T15:29:37.591954",
     "exception": false,
     "start_time": "2021-10-11T15:29:29.229178",
     "status": "completed"
    },
    "tags": []
   },
   "outputs": [],
   "source": [
    "!pip install self-supervised -Uq"
   ]
  },
  {
   "cell_type": "code",
   "execution_count": 2,
   "id": "speaking-monitoring",
   "metadata": {
    "execution": {
     "iopub.execute_input": "2021-10-11T15:29:37.626918Z",
     "iopub.status.busy": "2021-10-11T15:29:37.626178Z",
     "iopub.status.idle": "2021-10-11T15:29:43.890958Z",
     "shell.execute_reply": "2021-10-11T15:29:43.889911Z",
     "shell.execute_reply.started": "2021-10-11T14:24:39.359176Z"
    },
    "papermill": {
     "duration": 6.284277,
     "end_time": "2021-10-11T15:29:43.891120",
     "exception": false,
     "start_time": "2021-10-11T15:29:37.606843",
     "status": "completed"
    },
    "tags": []
   },
   "outputs": [],
   "source": [
    "from fastai.vision.all import *\n",
    "\n",
    "from self_supervised.augmentations import *\n",
    "from self_supervised.layers import *\n",
    "from self_supervised.vision.swav import *\n",
    "from self_supervised.vision.byol import *\n",
    "\n",
    "from sklearn.model_selection import StratifiedKFold\n",
    "import torchvision.models as models\n",
    "from cuml.neighbors import NearestNeighbors"
   ]
  },
  {
   "cell_type": "markdown",
   "id": "intensive-sentence",
   "metadata": {
    "papermill": {
     "duration": 0.014383,
     "end_time": "2021-10-11T15:29:43.920039",
     "exception": false,
     "start_time": "2021-10-11T15:29:43.905656",
     "status": "completed"
    },
    "tags": []
   },
   "source": [
    "### Reading Data"
   ]
  },
  {
   "cell_type": "code",
   "execution_count": 3,
   "id": "effective-southeast",
   "metadata": {
    "execution": {
     "iopub.execute_input": "2021-10-11T15:29:43.961956Z",
     "iopub.status.busy": "2021-10-11T15:29:43.961443Z",
     "iopub.status.idle": "2021-10-11T15:29:44.145181Z",
     "shell.execute_reply": "2021-10-11T15:29:44.144697Z",
     "shell.execute_reply.started": "2021-10-11T12:22:10.759284Z"
    },
    "papermill": {
     "duration": 0.209901,
     "end_time": "2021-10-11T15:29:44.145319",
     "exception": false,
     "start_time": "2021-10-11T15:29:43.935418",
     "status": "completed"
    },
    "tags": []
   },
   "outputs": [
    {
     "data": {
      "text/html": [
       "<div>\n",
       "<style scoped>\n",
       "    .dataframe tbody tr th:only-of-type {\n",
       "        vertical-align: middle;\n",
       "    }\n",
       "\n",
       "    .dataframe tbody tr th {\n",
       "        vertical-align: top;\n",
       "    }\n",
       "\n",
       "    .dataframe thead th {\n",
       "        text-align: right;\n",
       "    }\n",
       "</style>\n",
       "<table border=\"1\" class=\"dataframe\">\n",
       "  <thead>\n",
       "    <tr style=\"text-align: right;\">\n",
       "      <th></th>\n",
       "      <th>posting_id</th>\n",
       "      <th>image</th>\n",
       "      <th>image_phash</th>\n",
       "      <th>title</th>\n",
       "      <th>label_group</th>\n",
       "    </tr>\n",
       "  </thead>\n",
       "  <tbody>\n",
       "    <tr>\n",
       "      <th>0</th>\n",
       "      <td>train_129225211</td>\n",
       "      <td>0000a68812bc7e98c42888dfb1c07da0.jpg</td>\n",
       "      <td>94974f937d4c2433</td>\n",
       "      <td>Paper Bag Victoria Secret</td>\n",
       "      <td>249114794</td>\n",
       "    </tr>\n",
       "    <tr>\n",
       "      <th>1</th>\n",
       "      <td>train_3386243561</td>\n",
       "      <td>00039780dfc94d01db8676fe789ecd05.jpg</td>\n",
       "      <td>af3f9460c2838f0f</td>\n",
       "      <td>Double Tape 3M VHB 12 mm x 4,5 m ORIGINAL / DOUBLE FOAM TAPE</td>\n",
       "      <td>2937985045</td>\n",
       "    </tr>\n",
       "    <tr>\n",
       "      <th>2</th>\n",
       "      <td>train_2288590299</td>\n",
       "      <td>000a190fdd715a2a36faed16e2c65df7.jpg</td>\n",
       "      <td>b94cb00ed3e50f78</td>\n",
       "      <td>Maling TTS Canned Pork Luncheon Meat 397 gr</td>\n",
       "      <td>2395904891</td>\n",
       "    </tr>\n",
       "    <tr>\n",
       "      <th>3</th>\n",
       "      <td>train_2406599165</td>\n",
       "      <td>00117e4fc239b1b641ff08340b429633.jpg</td>\n",
       "      <td>8514fc58eafea283</td>\n",
       "      <td>Daster Batik Lengan pendek - Motif Acak / Campur - Leher Kancing (DPT001-00) Batik karakter Alhadi</td>\n",
       "      <td>4093212188</td>\n",
       "    </tr>\n",
       "    <tr>\n",
       "      <th>4</th>\n",
       "      <td>train_3369186413</td>\n",
       "      <td>00136d1cf4edede0203f32f05f660588.jpg</td>\n",
       "      <td>a6f319f924ad708c</td>\n",
       "      <td>Nescafe \\xc3\\x89clair Latte 220ml</td>\n",
       "      <td>3648931069</td>\n",
       "    </tr>\n",
       "  </tbody>\n",
       "</table>\n",
       "</div>"
      ],
      "text/plain": [
       "         posting_id                                 image       image_phash  \\\n",
       "0   train_129225211  0000a68812bc7e98c42888dfb1c07da0.jpg  94974f937d4c2433   \n",
       "1  train_3386243561  00039780dfc94d01db8676fe789ecd05.jpg  af3f9460c2838f0f   \n",
       "2  train_2288590299  000a190fdd715a2a36faed16e2c65df7.jpg  b94cb00ed3e50f78   \n",
       "3  train_2406599165  00117e4fc239b1b641ff08340b429633.jpg  8514fc58eafea283   \n",
       "4  train_3369186413  00136d1cf4edede0203f32f05f660588.jpg  a6f319f924ad708c   \n",
       "\n",
       "                                                                                                title  \\\n",
       "0                                                                           Paper Bag Victoria Secret   \n",
       "1                                        Double Tape 3M VHB 12 mm x 4,5 m ORIGINAL / DOUBLE FOAM TAPE   \n",
       "2                                                         Maling TTS Canned Pork Luncheon Meat 397 gr   \n",
       "3  Daster Batik Lengan pendek - Motif Acak / Campur - Leher Kancing (DPT001-00) Batik karakter Alhadi   \n",
       "4                                                                   Nescafe \\xc3\\x89clair Latte 220ml   \n",
       "\n",
       "   label_group  \n",
       "0    249114794  \n",
       "1   2937985045  \n",
       "2   2395904891  \n",
       "3   4093212188  \n",
       "4   3648931069  "
      ]
     },
     "execution_count": 3,
     "metadata": {},
     "output_type": "execute_result"
    }
   ],
   "source": [
    "df = pd.read_csv('../input/shopee-product-matching/train.csv')\n",
    "df.head()"
   ]
  },
  {
   "cell_type": "markdown",
   "id": "linear-square",
   "metadata": {
    "papermill": {
     "duration": 0.018041,
     "end_time": "2021-10-11T15:29:44.179182",
     "exception": false,
     "start_time": "2021-10-11T15:29:44.161141",
     "status": "completed"
    },
    "tags": []
   },
   "source": [
    "To train the model, we will also need a validation set. I will use simple `StratifiedKFold` technique to split my data into train & validation set."
   ]
  },
  {
   "cell_type": "code",
   "execution_count": 4,
   "id": "behind-punch",
   "metadata": {
    "execution": {
     "iopub.execute_input": "2021-10-11T15:29:44.216260Z",
     "iopub.status.busy": "2021-10-11T15:29:44.215498Z",
     "iopub.status.idle": "2021-10-11T15:29:44.473596Z",
     "shell.execute_reply": "2021-10-11T15:29:44.473173Z",
     "shell.execute_reply.started": "2021-10-11T12:22:10.949823Z"
    },
    "papermill": {
     "duration": 0.279926,
     "end_time": "2021-10-11T15:29:44.473715",
     "exception": false,
     "start_time": "2021-10-11T15:29:44.193789",
     "status": "completed"
    },
    "tags": []
   },
   "outputs": [
    {
     "name": "stderr",
     "output_type": "stream",
     "text": [
      "/opt/conda/lib/python3.7/site-packages/sklearn/model_selection/_split.py:668: UserWarning: The least populated class in y has only 2 members, which is less than n_splits=5.\n",
      "  % (min_groups, self.n_splits)), UserWarning)\n"
     ]
    },
    {
     "data": {
      "text/plain": [
       "is_valid  label_group\n",
       "False     159351600      41\n",
       "          562358068      41\n",
       "          1141798720     41\n",
       "          1163569239     41\n",
       "          3113678103     41\n",
       "                         ..\n",
       "True      4290195299      1\n",
       "          4290248491      1\n",
       "          4291905065      1\n",
       "          4292006141      1\n",
       "          4294197112      1\n",
       "Name: label_group, Length: 16949, dtype: int64"
      ]
     },
     "execution_count": 4,
     "metadata": {},
     "output_type": "execute_result"
    }
   ],
   "source": [
    "sk_fold = StratifiedKFold(5)\n",
    "df['is_valid'] = False\n",
    "for i, (trn_idx, val_idx) in enumerate(sk_fold.split(df, df.label_group)):\n",
    "    df.loc[val_idx, 'is_valid'] = True\n",
    "    break\n",
    "    \n",
    "df.groupby('is_valid').label_group.value_counts()"
   ]
  },
  {
   "cell_type": "markdown",
   "id": "static-withdrawal",
   "metadata": {
    "papermill": {
     "duration": 0.015318,
     "end_time": "2021-10-11T15:29:44.504414",
     "exception": false,
     "start_time": "2021-10-11T15:29:44.489096",
     "status": "completed"
    },
    "tags": []
   },
   "source": [
    "As per the warning, there are some label groups with less than 5 posting. lets see how many such label group we have . . . "
   ]
  },
  {
   "cell_type": "code",
   "execution_count": 5,
   "id": "legal-feature",
   "metadata": {
    "execution": {
     "iopub.execute_input": "2021-10-11T15:29:44.541725Z",
     "iopub.status.busy": "2021-10-11T15:29:44.540888Z",
     "iopub.status.idle": "2021-10-11T15:29:44.552709Z",
     "shell.execute_reply": "2021-10-11T15:29:44.552293Z",
     "shell.execute_reply.started": "2021-10-11T12:22:11.336416Z"
    },
    "papermill": {
     "duration": 0.031362,
     "end_time": "2021-10-11T15:29:44.552818",
     "exception": false,
     "start_time": "2021-10-11T15:29:44.521456",
     "status": "completed"
    },
    "tags": []
   },
   "outputs": [
    {
     "data": {
      "text/plain": [
       "9620"
      ]
     },
     "execution_count": 5,
     "metadata": {},
     "output_type": "execute_result"
    }
   ],
   "source": [
    "sum(df.label_group.value_counts() < 5)"
   ]
  },
  {
   "cell_type": "markdown",
   "id": "retired-trailer",
   "metadata": {
    "papermill": {
     "duration": 0.015951,
     "end_time": "2021-10-11T15:29:44.584671",
     "exception": false,
     "start_time": "2021-10-11T15:29:44.568720",
     "status": "completed"
    },
    "tags": []
   },
   "source": [
    "There are 9620 `label_group` with less than 5 postings. Quite a lot, huh! (lets handle it in version-2).\n",
    "\n",
    "### Dataloaders\n",
    "\n",
    "For now, lets create some helper functions to create dataloaders."
   ]
  },
  {
   "cell_type": "code",
   "execution_count": 6,
   "id": "appropriate-batch",
   "metadata": {
    "execution": {
     "iopub.execute_input": "2021-10-11T15:29:44.623385Z",
     "iopub.status.busy": "2021-10-11T15:29:44.622816Z",
     "iopub.status.idle": "2021-10-11T15:29:44.626464Z",
     "shell.execute_reply": "2021-10-11T15:29:44.625878Z",
     "shell.execute_reply.started": "2021-10-11T12:22:11.357295Z"
    },
    "papermill": {
     "duration": 0.025542,
     "end_time": "2021-10-11T15:29:44.626581",
     "exception": false,
     "start_time": "2021-10-11T15:29:44.601039",
     "status": "completed"
    },
    "tags": []
   },
   "outputs": [],
   "source": [
    "def get_x(x): return '../input/shopee-product-matching/train_images/' + x['image']\n",
    "\n",
    "def get_dls(size, bs, workers=None):\n",
    "    path = Path('../input/shopee-product-matching/train_images/')\n",
    "    \n",
    "    db = DataBlock(blocks = (ImageBlock(), CategoryBlock()),\n",
    "              get_x = get_x, get_y=ColReader('label_group'),\n",
    "              splitter=ColSplitter(),\n",
    "              item_tfms=RandomResizedCrop(size, min_scale=1.))\n",
    "    dls = db.dataloaders(df, bs=bs, num_workers=workers)\n",
    "    return dls"
   ]
  },
  {
   "cell_type": "markdown",
   "id": "breathing-batch",
   "metadata": {
    "papermill": {
     "duration": 0.015647,
     "end_time": "2021-10-11T15:29:44.657635",
     "exception": false,
     "start_time": "2021-10-11T15:29:44.641988",
     "status": "completed"
    },
    "tags": []
   },
   "source": [
    "Lets create our dataloaders . . . "
   ]
  },
  {
   "cell_type": "code",
   "execution_count": 7,
   "id": "neutral-draft",
   "metadata": {
    "execution": {
     "iopub.execute_input": "2021-10-11T15:29:44.715025Z",
     "iopub.status.busy": "2021-10-11T15:29:44.714160Z",
     "iopub.status.idle": "2021-10-11T15:29:55.076678Z",
     "shell.execute_reply": "2021-10-11T15:29:55.075277Z",
     "shell.execute_reply.started": "2021-10-11T12:22:11.368140Z"
    },
    "papermill": {
     "duration": 10.402172,
     "end_time": "2021-10-11T15:29:55.076812",
     "exception": false,
     "start_time": "2021-10-11T15:29:44.674640",
     "status": "completed"
    },
    "tags": []
   },
   "outputs": [],
   "source": [
    "bs, resize, size = 24, 256, 224\n",
    "dls = get_dls(resize, bs)"
   ]
  },
  {
   "cell_type": "markdown",
   "id": "eleven-enhancement",
   "metadata": {
    "papermill": {
     "duration": 0.01591,
     "end_time": "2021-10-11T15:29:55.108421",
     "exception": false,
     "start_time": "2021-10-11T15:29:55.092511",
     "status": "completed"
    },
    "tags": []
   },
   "source": [
    "### Model & Callbacks\n",
    "\n",
    "Finally, lets initialize our model & SwAV callbacks"
   ]
  },
  {
   "cell_type": "code",
   "execution_count": 8,
   "id": "correct-respect",
   "metadata": {
    "execution": {
     "iopub.execute_input": "2021-10-11T15:29:55.150577Z",
     "iopub.status.busy": "2021-10-11T15:29:55.149983Z",
     "iopub.status.idle": "2021-10-11T15:30:02.056179Z",
     "shell.execute_reply": "2021-10-11T15:30:02.054972Z",
     "shell.execute_reply.started": "2021-10-11T14:30:26.754269Z"
    },
    "papermill": {
     "duration": 6.93229,
     "end_time": "2021-10-11T15:30:02.056339",
     "exception": false,
     "start_time": "2021-10-11T15:29:55.124049",
     "status": "completed"
    },
    "tags": []
   },
   "outputs": [
    {
     "name": "stderr",
     "output_type": "stream",
     "text": [
      "Downloading: \"https://download.pytorch.org/models/resnet50-19c8e357.pth\" to /root/.cache/torch/hub/checkpoints/resnet50-19c8e357.pth\n"
     ]
    },
    {
     "data": {
      "application/vnd.jupyter.widget-view+json": {
       "model_id": "fa91d1b0373e40729b1bf05b01692b4d",
       "version_major": 2,
       "version_minor": 0
      },
      "text/plain": [
       "  0%|          | 0.00/97.8M [00:00<?, ?B/s]"
      ]
     },
     "metadata": {},
     "output_type": "display_data"
    }
   ],
   "source": [
    "## Model\n",
    "arch = \"resnet50\"\n",
    "encoder = create_encoder(arch, pretrained=True, n_in=3)\n",
    "model = create_byol_model(encoder, hidden_size=2048, projection_size=128)\n",
    "\n",
    "## SwAV callback\n",
    "K = bs*2**4\n",
    "aug_pipelines = get_byol_aug_pipelines(size=size)\n",
    "cbs=[BYOL(aug_pipelines=aug_pipelines)]"
   ]
  },
  {
   "cell_type": "markdown",
   "id": "awful-thought",
   "metadata": {
    "papermill": {
     "duration": 0.015982,
     "end_time": "2021-10-11T15:30:02.089122",
     "exception": false,
     "start_time": "2021-10-11T15:30:02.073140",
     "status": "completed"
    },
    "tags": []
   },
   "source": [
    "Great, we have our data, model, & also the callbacks. Fastai has this amazing class called `Learner` which put everything together for training."
   ]
  },
  {
   "cell_type": "code",
   "execution_count": 9,
   "id": "secure-peeing",
   "metadata": {
    "execution": {
     "iopub.execute_input": "2021-10-11T15:30:02.126197Z",
     "iopub.status.busy": "2021-10-11T15:30:02.125302Z",
     "iopub.status.idle": "2021-10-11T15:30:02.128141Z",
     "shell.execute_reply": "2021-10-11T15:30:02.127710Z",
     "shell.execute_reply.started": "2021-10-11T14:30:31.368954Z"
    },
    "papermill": {
     "duration": 0.02302,
     "end_time": "2021-10-11T15:30:02.128247",
     "exception": false,
     "start_time": "2021-10-11T15:30:02.105227",
     "status": "completed"
    },
    "tags": []
   },
   "outputs": [],
   "source": [
    "learn = Learner(dls, model, cbs=cbs)"
   ]
  },
  {
   "cell_type": "markdown",
   "id": "advanced-myanmar",
   "metadata": {
    "papermill": {
     "duration": 0.016261,
     "end_time": "2021-10-11T15:30:02.160522",
     "exception": false,
     "start_time": "2021-10-11T15:30:02.144261",
     "status": "completed"
    },
    "tags": []
   },
   "source": [
    "Before we actually training the model, lets look at some of the samples. "
   ]
  },
  {
   "cell_type": "code",
   "execution_count": 10,
   "id": "indian-preference",
   "metadata": {
    "execution": {
     "iopub.execute_input": "2021-10-11T15:30:02.235755Z",
     "iopub.status.busy": "2021-10-11T15:30:02.235261Z",
     "iopub.status.idle": "2021-10-11T15:30:02.753787Z",
     "shell.execute_reply": "2021-10-11T15:30:02.753138Z",
     "shell.execute_reply.started": "2021-10-11T14:31:17.513591Z"
    },
    "papermill": {
     "duration": 0.574518,
     "end_time": "2021-10-11T15:30:02.753920",
     "exception": false,
     "start_time": "2021-10-11T15:30:02.179402",
     "status": "completed"
    },
    "tags": []
   },
   "outputs": [],
   "source": [
    "b = dls.one_batch()\n",
    "learn._split(b)\n",
    "# learn('before_batch')\n",
    "# learn.byol.show(n=5);"
   ]
  },
  {
   "cell_type": "markdown",
   "id": "approximate-fitness",
   "metadata": {
    "papermill": {
     "duration": 0.016117,
     "end_time": "2021-10-11T15:30:02.787120",
     "exception": false,
     "start_time": "2021-10-11T15:30:02.771003",
     "status": "completed"
    },
    "tags": []
   },
   "source": [
    "### Training \n",
    "\n",
    "Time to train the model . . . "
   ]
  },
  {
   "cell_type": "code",
   "execution_count": 11,
   "id": "simple-society",
   "metadata": {
    "execution": {
     "iopub.execute_input": "2021-10-11T15:30:02.842099Z",
     "iopub.status.busy": "2021-10-11T15:30:02.841471Z",
     "iopub.status.idle": "2021-10-11T16:24:56.118335Z",
     "shell.execute_reply": "2021-10-11T16:24:56.117410Z"
    },
    "papermill": {
     "duration": 3293.315216,
     "end_time": "2021-10-11T16:24:56.118476",
     "exception": false,
     "start_time": "2021-10-11T15:30:02.803260",
     "status": "completed"
    },
    "tags": []
   },
   "outputs": [
    {
     "data": {
      "text/html": [
       "<table border=\"1\" class=\"dataframe\">\n",
       "  <thead>\n",
       "    <tr style=\"text-align: left;\">\n",
       "      <th>epoch</th>\n",
       "      <th>train_loss</th>\n",
       "      <th>valid_loss</th>\n",
       "      <th>time</th>\n",
       "    </tr>\n",
       "  </thead>\n",
       "  <tbody>\n",
       "    <tr>\n",
       "      <td>0</td>\n",
       "      <td>0.502490</td>\n",
       "      <td>0.510174</td>\n",
       "      <td>11:15</td>\n",
       "    </tr>\n",
       "    <tr>\n",
       "      <td>1</td>\n",
       "      <td>0.344659</td>\n",
       "      <td>0.338719</td>\n",
       "      <td>10:58</td>\n",
       "    </tr>\n",
       "    <tr>\n",
       "      <td>2</td>\n",
       "      <td>0.420806</td>\n",
       "      <td>0.452923</td>\n",
       "      <td>10:56</td>\n",
       "    </tr>\n",
       "    <tr>\n",
       "      <td>3</td>\n",
       "      <td>0.594887</td>\n",
       "      <td>0.586565</td>\n",
       "      <td>10:51</td>\n",
       "    </tr>\n",
       "    <tr>\n",
       "      <td>4</td>\n",
       "      <td>0.590348</td>\n",
       "      <td>0.535096</td>\n",
       "      <td>10:51</td>\n",
       "    </tr>\n",
       "  </tbody>\n",
       "</table>"
      ],
      "text/plain": [
       "<IPython.core.display.HTML object>"
      ]
     },
     "metadata": {},
     "output_type": "display_data"
    }
   ],
   "source": [
    "lr, wd = 1e-2, 1e-2\n",
    "epochs = 5 # try using 40 or 50\n",
    "learn.unfreeze()\n",
    "learn.fit_flat_cos(epochs, lr, wd=wd, pct_start=0.5)"
   ]
  },
  {
   "cell_type": "code",
   "execution_count": 12,
   "id": "recorded-roommate",
   "metadata": {
    "execution": {
     "iopub.execute_input": "2021-10-11T16:24:56.158222Z",
     "iopub.status.busy": "2021-10-11T16:24:56.157445Z",
     "iopub.status.idle": "2021-10-11T16:24:57.609453Z",
     "shell.execute_reply": "2021-10-11T16:24:57.609004Z"
    },
    "papermill": {
     "duration": 1.473967,
     "end_time": "2021-10-11T16:24:57.609576",
     "exception": false,
     "start_time": "2021-10-11T16:24:56.135609",
     "status": "completed"
    },
    "tags": []
   },
   "outputs": [
    {
     "data": {
      "image/png": "[encoded data removed]",
      "text/plain": [
       "<Figure size 432x288 with 1 Axes>"
      ]
     },
     "metadata": {
      "needs_background": "light"
     },
     "output_type": "display_data"
    }
   ],
   "source": [
    "save_name = f'byol_iwang_sz{size}_epc{epochs}'\n",
    "learn.save(save_name)\n",
    "torch.save(learn.model.encoder.state_dict(), learn.path/learn.model_dir/f'{save_name}_encoder.pth')\n",
    "learn.recorder.plot_loss()"
   ]
  },
  {
   "cell_type": "code",
   "execution_count": 13,
   "id": "above-fleece",
   "metadata": {
    "execution": {
     "iopub.execute_input": "2021-10-11T16:24:57.653599Z",
     "iopub.status.busy": "2021-10-11T16:24:57.652125Z",
     "iopub.status.idle": "2021-10-11T16:24:57.654921Z",
     "shell.execute_reply": "2021-10-11T16:24:57.655366Z"
    },
    "papermill": {
     "duration": 0.026414,
     "end_time": "2021-10-11T16:24:57.655496",
     "exception": false,
     "start_time": "2021-10-11T16:24:57.629082",
     "status": "completed"
    },
    "tags": []
   },
   "outputs": [],
   "source": [
    "# while True:\n",
    "#     pass"
   ]
  },
  {
   "cell_type": "code",
   "execution_count": null,
   "id": "ceramic-emission",
   "metadata": {
    "papermill": {
     "duration": 0.018637,
     "end_time": "2021-10-11T16:24:57.692258",
     "exception": false,
     "start_time": "2021-10-11T16:24:57.673621",
     "status": "completed"
    },
    "tags": []
   },
   "outputs": [],
   "source": []
  },
  {
   "cell_type": "markdown",
   "id": "celtic-society",
   "metadata": {
    "papermill": {
     "duration": 0.018869,
     "end_time": "2021-10-11T16:24:57.730347",
     "exception": false,
     "start_time": "2021-10-11T16:24:57.711478",
     "status": "completed"
    },
    "tags": []
   },
   "source": [
    "This notebook is only intended for learning. To get better score, try using different model architecture, bigger image size, etc.\n",
    "\n",
    "I can find the inference notebook, [here](https://www.kaggle.com/ankursingh12/shopee-swav-inference)\n",
    "\n",
    "Hope you enjoyed reading this notebook. If yes, then please consider **upvoting**!"
   ]
  }
 ],
 "metadata": {
  "kernelspec": {
   "display_name": "Python 3",
   "language": "python",
   "name": "python3"
  },
  "language_info": {
   "codemirror_mode": {
    "name": "ipython",
    "version": 3
   },
   "file_extension": ".py",
   "mimetype": "text/x-python",
   "name": "python",
   "nbconvert_exporter": "python",
   "pygments_lexer": "ipython3",
   "version": "3.7.9"
  },
  "papermill": {
   "default_parameters": {},
   "duration": 3335.692548,
   "end_time": "2021-10-11T16:25:00.093863",
   "environment_variables": {},
   "exception": null,
   "input_path": "__notebook__.ipynb",
   "output_path": "__notebook__.ipynb",
   "parameters": {},
   "start_time": "2021-10-11T15:29:24.401315",
   "version": "2.3.2"
  },
  "widgets": {
   "application/vnd.jupyter.widget-state+json": {
    "state": {
     "08bb1117801c48bb89b7fe9923405e79": {
      "model_module": "@jupyter-widgets/base",
      "model_module_version": "1.2.0",
      "model_name": "LayoutModel",
      "state": {
       "_model_module": "@jupyter-widgets/base",
       "_model_module_version": "1.2.0",
       "_model_name": "LayoutModel",
       "_view_count": null,
       "_view_module": "@jupyter-widgets/base",
       "_view_module_version": "1.2.0",
       "_view_name": "LayoutView",
       "align_content": null,
       "align_items": null,
       "align_self": null,
       "border": null,
       "bottom": null,
       "display": null,
       "flex": null,
       "flex_flow": null,
       "grid_area": null,
       "grid_auto_columns": null,
       "grid_auto_flow": null,
       "grid_auto_rows": null,
       "grid_column": null,
       "grid_gap": null,
       "grid_row": null,
       "grid_template_areas": null,
       "grid_template_columns": null,
       "grid_template_rows": null,
       "height": null,
       "justify_content": null,
       "justify_items": null,
       "left": null,
       "margin": null,
       "max_height": null,
       "max_width": null,
       "min_height": null,
       "min_width": null,
       "object_fit": null,
       "object_position": null,
       "order": null,
       "overflow": null,
       "overflow_x": null,
       "overflow_y": null,
       "padding": null,
       "right": null,
       "top": null,
       "visibility": null,
       "width": null
      }
     },
     "15c487ac16e64e939b5052e272a47775": {
      "model_module": "@jupyter-widgets/controls",
      "model_module_version": "1.5.0",
      "model_name": "DescriptionStyleModel",
      "state": {
       "_model_module": "@jupyter-widgets/controls",
       "_model_module_version": "1.5.0",
       "_model_name": "DescriptionStyleModel",
       "_view_count": null,
       "_view_module": "@jupyter-widgets/base",
       "_view_module_version": "1.2.0",
       "_view_name": "StyleView",
       "description_width": ""
      }
     },
     "16035846f900421f911e7259d4966a4d": {
      "model_module": "@jupyter-widgets/base",
      "model_module_version": "1.2.0",
      "model_name": "LayoutModel",
      "state": {
       "_model_module": "@jupyter-widgets/base",
       "_model_module_version": "1.2.0",
       "_model_name": "LayoutModel",
       "_view_count": null,
       "_view_module": "@jupyter-widgets/base",
       "_view_module_version": "1.2.0",
       "_view_name": "LayoutView",
       "align_content": null,
       "align_items": null,
       "align_self": null,
       "border": null,
       "bottom": null,
       "display": null,
       "flex": null,
       "flex_flow": null,
       "grid_area": null,
       "grid_auto_columns": null,
       "grid_auto_flow": null,
       "grid_auto_rows": null,
       "grid_column": null,
       "grid_gap": null,
       "grid_row": null,
       "grid_template_areas": null,
       "grid_template_columns": null,
       "grid_template_rows": null,
       "height": null,
       "justify_content": null,
       "justify_items": null,
       "left": null,
       "margin": null,
       "max_height": null,
       "max_width": null,
       "min_height": null,
       "min_width": null,
       "object_fit": null,
       "object_position": null,
       "order": null,
       "overflow": null,
       "overflow_x": null,
       "overflow_y": null,
       "padding": null,
       "right": null,
       "top": null,
       "visibility": null,
       "width": null
      }
     },
     "24d085b3ddb64f229c31ebae6c62f28e": {
      "model_module": "@jupyter-widgets/base",
      "model_module_version": "1.2.0",
      "model_name": "LayoutModel",
      "state": {
       "_model_module": "@jupyter-widgets/base",
       "_model_module_version": "1.2.0",
       "_model_name": "LayoutModel",
       "_view_count": null,
       "_view_module": "@jupyter-widgets/base",
       "_view_module_version": "1.2.0",
       "_view_name": "LayoutView",
       "align_content": null,
       "align_items": null,
       "align_self": null,
       "border": null,
       "bottom": null,
       "display": null,
       "flex": null,
       "flex_flow": null,
       "grid_area": null,
       "grid_auto_columns": null,
       "grid_auto_flow": null,
       "grid_auto_rows": null,
       "grid_column": null,
       "grid_gap": null,
       "grid_row": null,
       "grid_template_areas": null,
       "grid_template_columns": null,
       "grid_template_rows": null,
       "height": null,
       "justify_content": null,
       "justify_items": null,
       "left": null,
       "margin": null,
       "max_height": null,
       "max_width": null,
       "min_height": null,
       "min_width": null,
       "object_fit": null,
       "object_position": null,
       "order": null,
       "overflow": null,
       "overflow_x": null,
       "overflow_y": null,
       "padding": null,
       "right": null,
       "top": null,
       "visibility": null,
       "width": null
      }
     },
     "28bef74269f6459c97fde9d2ab21331f": {
      "model_module": "@jupyter-widgets/controls",
      "model_module_version": "1.5.0",
      "model_name": "HTMLModel",
      "state": {
       "_dom_classes": [],
       "_model_module": "@jupyter-widgets/controls",
       "_model_module_version": "1.5.0",
       "_model_name": "HTMLModel",
       "_view_count": null,
       "_view_module": "@jupyter-widgets/controls",
       "_view_module_version": "1.5.0",
       "_view_name": "HTMLView",
       "description": "",
       "description_tooltip": null,
       "layout": "IPY_MODEL_24d085b3ddb64f229c31ebae6c62f28e",
       "placeholder": "​",
       "style": "IPY_MODEL_15c487ac16e64e939b5052e272a47775",
       "value": "100%"
      }
     },
     "2bbaa819dbee407f87bb2f38ac112b0e": {
      "model_module": "@jupyter-widgets/controls",
      "model_module_version": "1.5.0",
      "model_name": "HTMLModel",
      "state": {
       "_dom_classes": [],
       "_model_module": "@jupyter-widgets/controls",
       "_model_module_version": "1.5.0",
       "_model_name": "HTMLModel",
       "_view_count": null,
       "_view_module": "@jupyter-widgets/controls",
       "_view_module_version": "1.5.0",
       "_view_name": "HTMLView",
       "description": "",
       "description_tooltip": null,
       "layout": "IPY_MODEL_08bb1117801c48bb89b7fe9923405e79",
       "placeholder": "​",
       "style": "IPY_MODEL_4e8eb7627f9e473bb9813bfef803ccaf",
       "value": " 97.8M/97.8M [00:05&lt;00:00, 23.0MB/s]"
      }
     },
     "4e8eb7627f9e473bb9813bfef803ccaf": {
      "model_module": "@jupyter-widgets/controls",
      "model_module_version": "1.5.0",
      "model_name": "DescriptionStyleModel",
      "state": {
       "_model_module": "@jupyter-widgets/controls",
       "_model_module_version": "1.5.0",
       "_model_name": "DescriptionStyleModel",
       "_view_count": null,
       "_view_module": "@jupyter-widgets/base",
       "_view_module_version": "1.2.0",
       "_view_name": "StyleView",
       "description_width": ""
      }
     },
     "c85ecf9512e5443bb967630811d4f00d": {
      "model_module": "@jupyter-widgets/controls",
      "model_module_version": "1.5.0",
      "model_name": "FloatProgressModel",
      "state": {
       "_dom_classes": [],
       "_model_module": "@jupyter-widgets/controls",
       "_model_module_version": "1.5.0",
       "_model_name": "FloatProgressModel",
       "_view_count": null,
       "_view_module": "@jupyter-widgets/controls",
       "_view_module_version": "1.5.0",
       "_view_name": "ProgressView",
       "bar_style": "success",
       "description": "",
       "description_tooltip": null,
       "layout": "IPY_MODEL_16035846f900421f911e7259d4966a4d",
       "max": 102502400.0,
       "min": 0.0,
       "orientation": "horizontal",
       "style": "IPY_MODEL_e5f679e1c2d8441f979c1da5882e346d",
       "value": 102502400.0
      }
     },
     "e5f679e1c2d8441f979c1da5882e346d": {
      "model_module": "@jupyter-widgets/controls",
      "model_module_version": "1.5.0",
      "model_name": "ProgressStyleModel",
      "state": {
       "_model_module": "@jupyter-widgets/controls",
       "_model_module_version": "1.5.0",
       "_model_name": "ProgressStyleModel",
       "_view_count": null,
       "_view_module": "@jupyter-widgets/base",
       "_view_module_version": "1.2.0",
       "_view_name": "StyleView",
       "bar_color": null,
       "description_width": ""
      }
     },
     "f00204acc1344012909d66326bea639e": {
      "model_module": "@jupyter-widgets/base",
      "model_module_version": "1.2.0",
      "model_name": "LayoutModel",
      "state": {
       "_model_module": "@jupyter-widgets/base",
       "_model_module_version": "1.2.0",
       "_model_name": "LayoutModel",
       "_view_count": null,
       "_view_module": "@jupyter-widgets/base",
       "_view_module_version": "1.2.0",
       "_view_name": "LayoutView",
       "align_content": null,
       "align_items": null,
       "align_self": null,
       "border": null,
       "bottom": null,
       "display": null,
       "flex": null,
       "flex_flow": null,
       "grid_area": null,
       "grid_auto_columns": null,
       "grid_auto_flow": null,
       "grid_auto_rows": null,
       "grid_column": null,
       "grid_gap": null,
       "grid_row": null,
       "grid_template_areas": null,
       "grid_template_columns": null,
       "grid_template_rows": null,
       "height": null,
       "justify_content": null,
       "justify_items": null,
       "left": null,
       "margin": null,
       "max_height": null,
       "max_width": null,
       "min_height": null,
       "min_width": null,
       "object_fit": null,
       "object_position": null,
       "order": null,
       "overflow": null,
       "overflow_x": null,
       "overflow_y": null,
       "padding": null,
       "right": null,
       "top": null,
       "visibility": null,
       "width": null
      }
     },
     "fa91d1b0373e40729b1bf05b01692b4d": {
      "model_module": "@jupyter-widgets/controls",
      "model_module_version": "1.5.0",
      "model_name": "HBoxModel",
      "state": {
       "_dom_classes": [],
       "_model_module": "@jupyter-widgets/controls",
       "_model_module_version": "1.5.0",
       "_model_name": "HBoxModel",
       "_view_count": null,
       "_view_module": "@jupyter-widgets/controls",
       "_view_module_version": "1.5.0",
       "_view_name": "HBoxView",
       "box_style": "",
       "children": [
        "IPY_MODEL_28bef74269f6459c97fde9d2ab21331f",
        "IPY_MODEL_c85ecf9512e5443bb967630811d4f00d",
        "IPY_MODEL_2bbaa819dbee407f87bb2f38ac112b0e"
       ],
       "layout": "IPY_MODEL_f00204acc1344012909d66326bea639e"
      }
     }
    },
    "version_major": 2,
    "version_minor": 0
   }
  }
 },
 "nbformat": 4,
 "nbformat_minor": 5
}
